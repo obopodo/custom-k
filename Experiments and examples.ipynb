{
 "cells": [
  {
   "cell_type": "markdown",
   "id": "0e93a0af-dd59-43ff-af9d-99edbea5b709",
   "metadata": {},
   "source": [
    "# Imports"
   ]
  },
  {
   "cell_type": "code",
   "execution_count": 1,
   "id": "f7fd9fee-c80b-4beb-b0a0-241227bad0ad",
   "metadata": {},
   "outputs": [],
   "source": [
    "# magic for modules reloading \n",
    "%load_ext autoreload\n",
    "%autoreload 2"
   ]
  },
  {
   "cell_type": "code",
   "execution_count": 2,
   "id": "acf8c795-d6fc-4cfe-a3d1-cc376546765e",
   "metadata": {},
   "outputs": [],
   "source": [
    "import matplotlib.pyplot as plt\n",
    "import numpy as np\n",
    "\n",
    "from models import KMeans, KNNClassifier, KNNRegressor\n",
    "\n",
    "from sklearn.cluster import KMeans as SKmeans\n",
    "from sklearn.neighbors import KNeighborsClassifier, KNeighborsRegressor\n",
    "\n",
    "from sklearn.utils.estimator_checks import check_estimator"
   ]
  },
  {
   "cell_type": "markdown",
   "id": "e8a4d143-2997-415e-9856-2a06593a36c2",
   "metadata": {},
   "source": [
    "# Useful functions"
   ]
  },
  {
   "cell_type": "code",
   "execution_count": 3,
   "id": "7c1b13a2-37e2-4bd1-96da-7dfd72a48375",
   "metadata": {},
   "outputs": [],
   "source": [
    "def accuracy(y_true, preds):\n",
    "    return ( (y_true == preds).sum() ) / len(preds)"
   ]
  },
  {
   "cell_type": "code",
   "execution_count": 4,
   "id": "cdf44de4-49d9-46ad-8f09-77cf5011675b",
   "metadata": {},
   "outputs": [],
   "source": [
    "def norm2x2(mu, s2, size):\n",
    "    x1 = np.asarray([\n",
    "        np.random.normal(mu, s2, size),\n",
    "        np.random.normal(mu, s2, size),\n",
    "    ]).T\n",
    "\n",
    "    x2 = np.asarray([\n",
    "        np.random.normal(1 - mu, s2, size),\n",
    "        np.random.normal(1 - mu, s2, size),\n",
    "    ]).T\n",
    "\n",
    "    y1 = np.zeros((size,))\n",
    "    y2 = np.ones((size,))\n",
    "    \n",
    "    return x1, x2, y1, y2"
   ]
  },
  {
   "cell_type": "code",
   "execution_count": 5,
   "id": "4a477528-8bdc-41b5-8892-b514b9b57b16",
   "metadata": {},
   "outputs": [],
   "source": [
    "def check_estimator_independently(checks):\n",
    "    bad_checks = []\n",
    "    good_checks = []\n",
    "    row = 0\n",
    "    for estimator, check in checks:\n",
    "        try:\n",
    "            check(estimator)\n",
    "            good_checks.append(check)\n",
    "    #         print(check, 'passed!')\n",
    "        except Exception as e:\n",
    "            bad_checks.append(check)\n",
    "            print(f'{row}:', e)\n",
    "            row += 1\n",
    "    return bad_checks, good_checks"
   ]
  },
  {
   "cell_type": "code",
   "execution_count": 21,
   "id": "31e76b61-f12e-4c64-9bfe-2f69a2b4dc56",
   "metadata": {},
   "outputs": [],
   "source": [
    "def compare_models(model1, model2, X_train, y_train):\n",
    "    _ = model1.fit(X_train)\n",
    "    _ = model2.fit(X_train)\n",
    "    preds1 = model1.predict(X_train)\n",
    "    preds2 = model2.predict(X_train)\n",
    "    print('model1 score on train: ', model1.score(X_train, y_train))\n",
    "    return preds1, preds2"
   ]
  },
  {
   "cell_type": "markdown",
   "id": "6b711de2-a89d-4c6f-bbab-72d0fc26c5a9",
   "metadata": {},
   "source": [
    "# Check sklearn API compatibility "
   ]
  },
  {
   "cell_type": "markdown",
   "id": "b17d237c-2633-4e52-82e8-385fc9ccbd3b",
   "metadata": {},
   "source": [
    "## KMeans"
   ]
  },
  {
   "cell_type": "code",
   "execution_count": 6,
   "id": "c091acda-b871-4928-98cd-d1e1e1f7c913",
   "metadata": {},
   "outputs": [],
   "source": [
    "checks = check_estimator(KMeans(), generate_only=True)"
   ]
  },
  {
   "cell_type": "code",
   "execution_count": 7,
   "id": "ab5707fc-011e-49c7-987c-e41b93174d81",
   "metadata": {},
   "outputs": [
    {
     "name": "stdout",
     "output_type": "stream",
     "text": [
      "0: Did not raise: [<class 'ValueError'>]\n",
      "1: loop of ufunc does not support argument 0 of type float which has no callable sqrt method\n",
      "2: Did not raise: [<class 'ValueError'>]\n"
     ]
    },
    {
     "name": "stderr",
     "output_type": "stream",
     "text": [
      "/Users/ml003/miniconda3/lib/python3.9/site-packages/numpy/core/fromnumeric.py:3440: RuntimeWarning: Mean of empty slice.\n",
      "  return _methods._mean(a, axis=axis, dtype=dtype,\n",
      "/Users/ml003/Documents/some_scripts/my_projects/mts_teta/ml/custom-k/models/k_means/KMeans.py:65: RuntimeWarning: invalid value encountered in double_scalars\n",
      "  return norm(self.means_ - self._prev_means) / norm(self._prev_means) < self.epsilon\n",
      "/Users/ml003/miniconda3/lib/python3.9/site-packages/numpy/core/fromnumeric.py:3440: RuntimeWarning: Mean of empty slice.\n",
      "  return _methods._mean(a, axis=axis, dtype=dtype,\n",
      "/Users/ml003/miniconda3/lib/python3.9/site-packages/numpy/core/_methods.py:181: RuntimeWarning: invalid value encountered in true_divide\n",
      "  ret = um.true_divide(\n"
     ]
    },
    {
     "name": "stdout",
     "output_type": "stream",
     "text": [
      "3: Estimator KMeans doesn't check for NaN and inf in fit.\n",
      "4: Estimator KMeans doesn't seem to fail gracefully on sparse data: error message should state explicitly that sparse input is not supported if this is not the case.\n",
      "5: \n",
      "Not equal to tolerance rtol=1e-07, atol=1e-09\n",
      "Idempotency check failed for method predict\n",
      "Mismatched elements: 1 / 20 (5%)\n",
      "Max absolute difference: 1\n",
      "Max relative difference: 1.\n",
      " x: array([1, 0, 0, 1, 1, 0, 0, 0, 0, 1, 0, 1, 0, 1, 0, 1, 1, 0, 1, 1])\n",
      " y: array([1, 0, 0, 1, 1, 0, 0, 0, 0, 1, 0, 1, 1, 1, 0, 1, 1, 0, 1, 1])\n",
      "6: \n"
     ]
    }
   ],
   "source": [
    "bad_checks, good_checks = check_estimator_independently(checks)"
   ]
  },
  {
   "cell_type": "code",
   "execution_count": 8,
   "id": "8df0a996-10d3-4623-af91-821d9ed619f6",
   "metadata": {},
   "outputs": [
    {
     "ename": "AssertionError",
     "evalue": "",
     "output_type": "error",
     "traceback": [
      "\u001b[0;31m---------------------------------------------------------------------------\u001b[0m",
      "\u001b[0;31mAssertionError\u001b[0m                            Traceback (most recent call last)",
      "Input \u001b[0;32mIn [8]\u001b[0m, in \u001b[0;36m<cell line: 1>\u001b[0;34m()\u001b[0m\n\u001b[0;32m----> 1\u001b[0m \u001b[43mbad_checks\u001b[49m\u001b[43m[\u001b[49m\u001b[38;5;241;43m6\u001b[39;49m\u001b[43m]\u001b[49m\u001b[43m(\u001b[49m\u001b[43mKMeans\u001b[49m\u001b[43m(\u001b[49m\u001b[43m)\u001b[49m\u001b[43m)\u001b[49m\n",
      "File \u001b[0;32m~/miniconda3/lib/python3.9/site-packages/sklearn/utils/estimator_checks.py:3656\u001b[0m, in \u001b[0;36mcheck_n_features_in\u001b[0;34m(name, estimator_orig)\u001b[0m\n\u001b[1;32m   3654\u001b[0m \u001b[38;5;28;01massert\u001b[39;00m \u001b[38;5;129;01mnot\u001b[39;00m \u001b[38;5;28mhasattr\u001b[39m(estimator, \u001b[38;5;124m\"\u001b[39m\u001b[38;5;124mn_features_in_\u001b[39m\u001b[38;5;124m\"\u001b[39m)\n\u001b[1;32m   3655\u001b[0m estimator\u001b[38;5;241m.\u001b[39mfit(X, y)\n\u001b[0;32m-> 3656\u001b[0m \u001b[38;5;28;01massert\u001b[39;00m \u001b[38;5;28mhasattr\u001b[39m(estimator, \u001b[38;5;124m\"\u001b[39m\u001b[38;5;124mn_features_in_\u001b[39m\u001b[38;5;124m\"\u001b[39m)\n\u001b[1;32m   3657\u001b[0m \u001b[38;5;28;01massert\u001b[39;00m estimator\u001b[38;5;241m.\u001b[39mn_features_in_ \u001b[38;5;241m==\u001b[39m X\u001b[38;5;241m.\u001b[39mshape[\u001b[38;5;241m1\u001b[39m]\n",
      "\u001b[0;31mAssertionError\u001b[0m: "
     ]
    }
   ],
   "source": [
    "bad_checks[6](KMeans())"
   ]
  },
  {
   "cell_type": "markdown",
   "id": "bb5e4a97-6e45-4e50-8e9b-29ba96aa0a78",
   "metadata": {},
   "source": [
    " "
   ]
  },
  {
   "cell_type": "markdown",
   "id": "3eb69c28-e819-408e-be0c-cb86275fa2ce",
   "metadata": {},
   "source": [
    "Здесь мне неясно, что произошло в 5 пункте. В дальнейших тестах я не нашёл проблем  \n",
    "В остальном проблемы кажутся не столь важными, в API указана необходимость некоторых методов, но не проверок"
   ]
  },
  {
   "cell_type": "markdown",
   "id": "a5016c86-e063-4c50-9e93-4b4a4e347635",
   "metadata": {},
   "source": [
    "## KNNClassifier"
   ]
  },
  {
   "cell_type": "code",
   "execution_count": 12,
   "id": "686579e4-e820-4e30-8ddf-23f3c042c3cf",
   "metadata": {},
   "outputs": [],
   "source": [
    "checks = check_estimator(KNNClassifier(), generate_only=True)"
   ]
  },
  {
   "cell_type": "code",
   "execution_count": 13,
   "id": "b5b1fe6c-a6ec-40c1-993e-58eb8bac8131",
   "metadata": {},
   "outputs": [
    {
     "name": "stdout",
     "output_type": "stream",
     "text": [
      "0: Did not raise: [<class 'ValueError'>]\n",
      "1: loop of ufunc does not support argument 0 of type float which has no callable sqrt method\n",
      "2: The estimator KNNClassifier does not raise a ValueError when an empty data is used to train. Perhaps use check_array in train.\n",
      "3: Estimator KNNClassifier doesn't check for NaN and inf in fit.\n",
      "4: Estimator KNNClassifier doesn't seem to fail gracefully on sparse data: error message should state explicitly that sparse input is not supported if this is not the case.\n"
     ]
    }
   ],
   "source": [
    "bad_checks, good_checks = check_estimator_independently(checks)"
   ]
  },
  {
   "cell_type": "markdown",
   "id": "f0054a19-ee43-462b-aa7a-2a0f3ae8b511",
   "metadata": {},
   "source": [
    "## KNNRegressor"
   ]
  },
  {
   "cell_type": "code",
   "execution_count": 14,
   "id": "97f6868e-35b8-4623-b6ef-09f3a9d92e8c",
   "metadata": {},
   "outputs": [],
   "source": [
    "checks = check_estimator(KNNRegressor(), generate_only=True)"
   ]
  },
  {
   "cell_type": "code",
   "execution_count": 15,
   "id": "5767cccf-83f4-4794-9428-fad1ddbab41b",
   "metadata": {},
   "outputs": [
    {
     "name": "stdout",
     "output_type": "stream",
     "text": [
      "0: Did not raise: [<class 'ValueError'>]\n",
      "1: loop of ufunc does not support argument 0 of type float which has no callable sqrt method\n",
      "2: The estimator KNNRegressor does not raise a ValueError when an empty data is used to train. Perhaps use check_array in train.\n",
      "3: Estimator KNNRegressor doesn't check for NaN and inf in fit.\n",
      "4: Estimator KNNRegressor doesn't seem to fail gracefully on sparse data: error message should state explicitly that sparse input is not supported if this is not the case.\n"
     ]
    }
   ],
   "source": [
    "bad_checks, good_checks = check_estimator_independently(checks)"
   ]
  },
  {
   "cell_type": "markdown",
   "id": "e800c875-ae00-4161-8a25-11259590a482",
   "metadata": {
    "tags": []
   },
   "source": [
    "# Make data KMeans"
   ]
  },
  {
   "cell_type": "code",
   "execution_count": 17,
   "id": "cf35774e-1118-41a7-bbc2-0c6de9ab7f95",
   "metadata": {},
   "outputs": [],
   "source": [
    "mu = 0.25\n",
    "s2 = 0.3\n",
    "n = 300"
   ]
  },
  {
   "cell_type": "code",
   "execution_count": 18,
   "id": "c771ac14-1487-4b90-8ba0-cac9a55c2865",
   "metadata": {},
   "outputs": [],
   "source": [
    "x1, x2, y1, y2 = norm2x2(mu, s2, n)"
   ]
  },
  {
   "cell_type": "code",
   "execution_count": 19,
   "id": "3c833622-dec4-426a-a3b0-4e8700de1751",
   "metadata": {},
   "outputs": [],
   "source": [
    "X = np.vstack((x1, x2))\n",
    "y = np.concatenate((y1, y2))"
   ]
  },
  {
   "cell_type": "code",
   "execution_count": 20,
   "id": "87138cdc-afa6-4b68-967c-7d997ad8a58b",
   "metadata": {},
   "outputs": [
    {
     "data": {
      "image/png": "[encoded data removed]",
      "text/plain": [
       "<Figure size 432x288 with 1 Axes>"
      ]
     },
     "metadata": {
      "needs_background": "light"
     },
     "output_type": "display_data"
    }
   ],
   "source": [
    "plt.plot(*x1.T, '.', alpha=0.6);\n",
    "plt.plot(*x2.T, '.', alpha=0.6);"
   ]
  },
  {
   "cell_type": "markdown",
   "id": "1d0830ff-c964-4d5c-8de8-2b9a2842fb2a",
   "metadata": {
    "tags": []
   },
   "source": [
    "# KMeans"
   ]
  },
  {
   "cell_type": "markdown",
   "id": "983da6eb-3a83-4485-a2e8-83ce2d7d0328",
   "metadata": {},
   "source": [
    "Метрика алгоритма, которая минимизируется - сумма квадратов расстояний от центра кластера до его центроиды:\n",
    "\n",
    "$$ L = \\sum_{j=1}^k \\sum_{i=1}^n \\lVert x_i - \\mu_j \\rVert}$$"
   ]
  },
  {
   "cell_type": "markdown",
   "id": "1a635e0e-62bf-4273-8c8c-4d099ec41a21",
   "metadata": {},
   "source": [
    "## Custom"
   ]
  },
  {
   "cell_type": "code",
   "execution_count": 46,
   "id": "e2a9e2d3-bcc5-4487-b85b-1b6b9930f131",
   "metadata": {},
   "outputs": [],
   "source": [
    "model = KMeans(k_clusters=2, init_means=[[0, 1], [1, 0]])"
   ]
  },
  {
   "cell_type": "code",
   "execution_count": 47,
   "id": "8d2c5489-b811-433c-8846-9bd863c4ae81",
   "metadata": {},
   "outputs": [],
   "source": [
    "_ = model.fit(X)"
   ]
  },
  {
   "cell_type": "code",
   "execution_count": 48,
   "id": "9825673c-405c-476f-9f08-f6b188a1e2ed",
   "metadata": {},
   "outputs": [],
   "source": [
    "preds = model.predict(X)"
   ]
  },
  {
   "cell_type": "code",
   "execution_count": 49,
   "id": "0f71d72d-b51f-41d2-a4be-248d57f9fb4f",
   "metadata": {},
   "outputs": [
    {
     "data": {
      "text/plain": [
       "[<matplotlib.lines.Line2D at 0x7fad71629280>]"
      ]
     },
     "execution_count": 49,
     "metadata": {},
     "output_type": "execute_result"
    },
    {
     "data": {
      "image/png": "[encoded data removed]",
      "text/plain": [
       "<Figure size 432x288 with 1 Axes>"
      ]
     },
     "metadata": {
      "needs_background": "light"
     },
     "output_type": "display_data"
    }
   ],
   "source": [
    "plt.plot(*X[preds==0].T, '.', alpha=0.7)\n",
    "plt.plot(*X[preds==1].T, '.', alpha=0.7)\n",
    "plt.plot(*model.means_.T, '*', color='black', markersize=15)"
   ]
  },
  {
   "cell_type": "markdown",
   "id": "70ed48c2-2f81-46ab-975a-87019503a6e5",
   "metadata": {},
   "source": [
    "## sklearn"
   ]
  },
  {
   "cell_type": "code",
   "execution_count": 53,
   "id": "d93875bd-f2d8-466f-bd17-159fc980e6a4",
   "metadata": {},
   "outputs": [],
   "source": [
    "model_skl = SKmeans(2, init = [[0, 1], [1, 0]])"
   ]
  },
  {
   "cell_type": "code",
   "execution_count": 54,
   "id": "6c22fd2d-7a26-469b-97f3-ef5ae54c2624",
   "metadata": {},
   "outputs": [
    {
     "name": "stderr",
     "output_type": "stream",
     "text": [
      "/Users/ml003/miniconda3/lib/python3.9/site-packages/sklearn/cluster/_kmeans.py:1305: RuntimeWarning: Explicit initial center position passed: performing only one init in KMeans instead of n_init=10.\n",
      "  super()._check_params(X)\n"
     ]
    }
   ],
   "source": [
    "_ = model_skl.fit(X)"
   ]
  },
  {
   "cell_type": "code",
   "execution_count": 55,
   "id": "4a37171c-a68d-4440-a472-c564f57f718f",
   "metadata": {},
   "outputs": [],
   "source": [
    "preds_skl = model_skl.predict(X)"
   ]
  },
  {
   "cell_type": "code",
   "execution_count": 56,
   "id": "2e4a5e85-66cc-4bd0-ae62-9d3885149da3",
   "metadata": {},
   "outputs": [
    {
     "data": {
      "text/plain": [
       "[<matplotlib.lines.Line2D at 0x7fad715959a0>]"
      ]
     },
     "execution_count": 56,
     "metadata": {},
     "output_type": "execute_result"
    },
    {
     "data": {
      "image/png": "[encoded data removed]",
      "text/plain": [
       "<Figure size 432x288 with 1 Axes>"
      ]
     },
     "metadata": {
      "needs_background": "light"
     },
     "output_type": "display_data"
    }
   ],
   "source": [
    "plt.plot(*X[preds_skl==0].T, '.', alpha=0.7)\n",
    "plt.plot(*X[preds_skl==1].T, '.', alpha=0.7)\n",
    "plt.plot(*model_skl.cluster_centers_.T, '*', color='black', markersize=15)"
   ]
  },
  {
   "cell_type": "markdown",
   "id": "8d69210d-00d2-46da-bf46-a3b49cb2fbcd",
   "metadata": {},
   "source": [
    "## Сравним на трейне"
   ]
  },
  {
   "cell_type": "code",
   "execution_count": 42,
   "id": "be911193-c9ac-49d2-bbfe-9adc844f3c4f",
   "metadata": {},
   "outputs": [
    {
     "data": {
      "text/plain": [
       "(0.135, 0.135)"
      ]
     },
     "execution_count": 42,
     "metadata": {},
     "output_type": "execute_result"
    }
   ],
   "source": [
    "accuracy(y, preds), accuracy(y, preds_skl)"
   ]
  },
  {
   "cell_type": "code",
   "execution_count": 43,
   "id": "65ce88f3-565e-4eac-8126-1c0d12827a9e",
   "metadata": {},
   "outputs": [
    {
     "data": {
      "text/plain": [
       "(-91.77379337023825, -91.77379337023825)"
      ]
     },
     "execution_count": 43,
     "metadata": {},
     "output_type": "execute_result"
    }
   ],
   "source": [
    "model.score(X), model_skl.score(X)"
   ]
  },
  {
   "cell_type": "markdown",
   "id": "afe02f45-7de5-4c19-8072-017d93cd4dfd",
   "metadata": {},
   "source": [
    "метрика отрицательна, так как в sklearn все принято максимизировать метрики при оптимизации"
   ]
  },
  {
   "cell_type": "code",
   "execution_count": 57,
   "id": "e1f998b0-d07f-472d-99a1-d9f377f6d0b1",
   "metadata": {},
   "outputs": [
    {
     "data": {
      "text/plain": [
       "array([[0.73258716, 0.78778042],\n",
       "       [0.23137138, 0.21730623]])"
      ]
     },
     "execution_count": 57,
     "metadata": {},
     "output_type": "execute_result"
    }
   ],
   "source": [
    "model.means_"
   ]
  },
  {
   "cell_type": "code",
   "execution_count": 58,
   "id": "7df68969-b000-43c4-b276-fcc0b3b7f6cd",
   "metadata": {},
   "outputs": [
    {
     "data": {
      "text/plain": [
       "array([[0.73258716, 0.78778042],\n",
       "       [0.23137138, 0.21730623]])"
      ]
     },
     "execution_count": 58,
     "metadata": {},
     "output_type": "execute_result"
    }
   ],
   "source": [
    "model_skl.cluster_centers_"
   ]
  },
  {
   "cell_type": "markdown",
   "id": "ea8febac-e384-4c44-9218-8fd792077cf9",
   "metadata": {},
   "source": [
    "  \n",
    "___\n",
    "**Вывод**: Результаты для кастомной модели и реализованной в sklearn сошлись"
   ]
  },
  {
   "cell_type": "markdown",
   "id": "c5b3987c-926c-44cc-bbbe-2aba5029439a",
   "metadata": {
    "tags": []
   },
   "source": [
    "# KNN"
   ]
  },
  {
   "cell_type": "markdown",
   "id": "bdaafe35-ac3c-4870-a24e-e9957c55271c",
   "metadata": {
    "tags": []
   },
   "source": [
    "## classifier"
   ]
  },
  {
   "cell_type": "markdown",
   "id": "d2359d71-bd66-4be2-9a17-845ebf7a5a34",
   "metadata": {},
   "source": [
    "### Custom"
   ]
  },
  {
   "cell_type": "code",
   "execution_count": 87,
   "id": "fdd69c27-d24d-4413-b595-3baf634450a9",
   "metadata": {},
   "outputs": [],
   "source": [
    "knnc = KNNClassifier(k_neighbors=5)"
   ]
  },
  {
   "cell_type": "code",
   "execution_count": 88,
   "id": "3e8d3fbe-f41f-4871-9a35-3b4eddec8e6c",
   "metadata": {},
   "outputs": [],
   "source": [
    "_ = knnc.fit(X, y)"
   ]
  },
  {
   "cell_type": "code",
   "execution_count": 89,
   "id": "7a383265-48bf-4136-9798-735118190775",
   "metadata": {},
   "outputs": [
    {
     "data": {
      "text/plain": [
       "[<matplotlib.lines.Line2D at 0x7fad71d6ff10>]"
      ]
     },
     "execution_count": 89,
     "metadata": {},
     "output_type": "execute_result"
    },
    {
     "data": {
      "image/png": "[encoded data removed]",
      "text/plain": [
       "<Figure size 432x288 with 1 Axes>"
      ]
     },
     "metadata": {
      "needs_background": "light"
     },
     "output_type": "display_data"
    }
   ],
   "source": [
    "plt.plot(*X[y==0].T, '.')\n",
    "plt.plot(*X[y==1].T, '.')"
   ]
  },
  {
   "cell_type": "code",
   "execution_count": 90,
   "id": "1d697b4b-3f9b-4b3e-a821-225dd8b13260",
   "metadata": {},
   "outputs": [],
   "source": [
    "preds = knnc.predict(X)"
   ]
  },
  {
   "cell_type": "markdown",
   "id": "094cba95-29e2-44db-bc35-2c0732392038",
   "metadata": {},
   "source": [
    "### Тестовые данные"
   ]
  },
  {
   "cell_type": "markdown",
   "id": "0b3ca727-d6f8-428d-b8f2-a754eb6ab65c",
   "metadata": {},
   "source": [
    "\n",
    "Интересно посмотреть, как классифицирует новые данные:"
   ]
  },
  {
   "cell_type": "code",
   "execution_count": 81,
   "id": "8c493666-43de-4021-98d8-93b85ef662bf",
   "metadata": {},
   "outputs": [],
   "source": [
    "x1_test, x2_test, y1_test, y2_test = norm2x2(0.25, 0.3, 100)"
   ]
  },
  {
   "cell_type": "code",
   "execution_count": 82,
   "id": "c136a580-df11-4d23-9588-7ea8d8fef6b1",
   "metadata": {},
   "outputs": [],
   "source": [
    "X_test = np.vstack((x1_test, x2_test))\n",
    "y_test = np.concatenate((y1_test, y2_test))"
   ]
  },
  {
   "cell_type": "code",
   "execution_count": 83,
   "id": "3b94ed93-2892-4d69-98f4-81043bc3c46c",
   "metadata": {},
   "outputs": [],
   "source": [
    "preds_test = knnc.predict(X_test)"
   ]
  },
  {
   "cell_type": "code",
   "execution_count": 84,
   "id": "00424eea-e730-40af-9e74-39c4c2d7cef6",
   "metadata": {},
   "outputs": [
    {
     "data": {
      "text/plain": [
       "[<matplotlib.lines.Line2D at 0x7fad71bf3730>]"
      ]
     },
     "execution_count": 84,
     "metadata": {},
     "output_type": "execute_result"
    },
    {
     "data": {
      "image/png": "[encoded data removed]",
      "text/plain": [
       "<Figure size 432x288 with 1 Axes>"
      ]
     },
     "metadata": {
      "needs_background": "light"
     },
     "output_type": "display_data"
    }
   ],
   "source": [
    "plt.plot(*X_test[preds_test==0].T, '.')\n",
    "plt.plot(*X_test[preds_test==1].T, '.')"
   ]
  },
  {
   "cell_type": "markdown",
   "id": "d7317823-6061-437f-b79f-d16d50c6fb68",
   "metadata": {},
   "source": [
    "### sklearn"
   ]
  },
  {
   "cell_type": "code",
   "execution_count": 91,
   "id": "2ae00e7a-27c0-45ba-92db-dafc187e18c9",
   "metadata": {},
   "outputs": [],
   "source": [
    "knnc_skl = KNeighborsClassifier(n_neighbors=5)"
   ]
  },
  {
   "cell_type": "code",
   "execution_count": 92,
   "id": "7f6638f6-272f-4524-acd8-1ec43d84ce98",
   "metadata": {},
   "outputs": [],
   "source": [
    "_ = knnc_skl.fit(X, y)"
   ]
  },
  {
   "cell_type": "markdown",
   "id": "0ccee01b-f342-4315-af83-e107d7ecdda9",
   "metadata": {},
   "source": [
    "### Compare"
   ]
  },
  {
   "cell_type": "markdown",
   "id": "8fd04716-bf01-4a25-8c48-dbb3c3b1d092",
   "metadata": {},
   "source": [
    "У KNN нет целевой метрики, так как он просто запоминает трейн и при предикте вычисляет ближайших соседей и их лейблы. Но sklearn возвращает accuracy, так что я тоже её реализовал"
   ]
  },
  {
   "cell_type": "code",
   "execution_count": 97,
   "id": "c7b5e62a-3671-494e-aedc-d338106f173e",
   "metadata": {},
   "outputs": [
    {
     "data": {
      "text/plain": [
       "(0.8933333333333333, 0.8933333333333333)"
      ]
     },
     "execution_count": 97,
     "metadata": {},
     "output_type": "execute_result"
    }
   ],
   "source": [
    "knnc.score(X, y), knnc_skl.score(X, y)"
   ]
  },
  {
   "cell_type": "markdown",
   "id": "d8428692-865c-4c97-a8c3-e400a6e32869",
   "metadata": {},
   "source": [
    "accuracy на трейне не равно 1, так как принимаем решение по 5 соседям. Чтобы была 1, нужно брать только 1 соседа"
   ]
  },
  {
   "cell_type": "code",
   "execution_count": 99,
   "id": "9db0ca2d-6d28-419c-9d4f-649bf24899a7",
   "metadata": {},
   "outputs": [
    {
     "data": {
      "text/plain": [
       "(0.87, 0.87)"
      ]
     },
     "execution_count": 99,
     "metadata": {},
     "output_type": "execute_result"
    }
   ],
   "source": [
    "knnc.score(X_test, y_test), knnc_skl.score(X_test, y_test)"
   ]
  },
  {
   "cell_type": "markdown",
   "id": "34a0862f-f0a5-4a05-928c-9e564b6a4530",
   "metadata": {},
   "source": [
    "**Вывод**: метрики сходятся и на трейне и на тесте"
   ]
  },
  {
   "cell_type": "markdown",
   "id": "f7bb470c-db47-4016-bc54-ff6d5de4707f",
   "metadata": {},
   "source": [
    "## Regressor"
   ]
  },
  {
   "cell_type": "markdown",
   "id": "27160aa8-eaa1-4644-a248-9183d89d09a5",
   "metadata": {},
   "source": [
    "### Make data for regression"
   ]
  },
  {
   "cell_type": "code",
   "execution_count": 100,
   "id": "7dda97d9-09d9-481e-bd2d-eecea06238f9",
   "metadata": {},
   "outputs": [],
   "source": [
    "x = np.linspace(0, 2 * np.pi, 500).reshape(-1, 1)\n",
    "y = np.sin(x)\n",
    "x_test = x + np.pi\n",
    "y_test = np.sin(x_test)"
   ]
  },
  {
   "cell_type": "markdown",
   "id": "6babb623-7246-4abb-8175-03f29c5d2f0d",
   "metadata": {},
   "source": [
    "### Custom"
   ]
  },
  {
   "cell_type": "code",
   "execution_count": 137,
   "id": "80b7e28d-67f3-4c75-9570-0d1428ccf47c",
   "metadata": {},
   "outputs": [],
   "source": [
    "knnr = KNNRegressor(2)\n",
    "_ = knnr.fit(x, y)"
   ]
  },
  {
   "cell_type": "code",
   "execution_count": 138,
   "id": "edbd6ca7-3feb-4d04-b137-dfd1e0a2ee77",
   "metadata": {},
   "outputs": [],
   "source": [
    "preds = knnr.predict(x_test)"
   ]
  },
  {
   "cell_type": "code",
   "execution_count": 139,
   "id": "d9125a84-0e79-43ee-8d4a-a607733b133c",
   "metadata": {},
   "outputs": [
    {
     "data": {
      "image/png": "[encoded data removed]",
      "text/plain": [
       "<Figure size 576x432 with 2 Axes>"
      ]
     },
     "metadata": {
      "needs_background": "light"
     },
     "output_type": "display_data"
    }
   ],
   "source": [
    "plt.figure(figsize=(8, 6))\n",
    "\n",
    "ax1 = plt.subplot(211)\n",
    "ax1.plot(x, y, 'o', color='green', alpha=0.4, label='y train')\n",
    "ax1.legend()\n",
    "ax1.grid()\n",
    "\n",
    "ax2 = plt.subplot(212, sharex=ax1)\n",
    "ax2.plot(x_test, preds, 'o', label='preds test', alpha=0.2)\n",
    "ax2.plot(x_test, y_test, color='red', label='y test')\n",
    "ax2.legend()\n",
    "ax2.grid()"
   ]
  },
  {
   "cell_type": "markdown",
   "id": "13714f24-d332-4c70-b3ab-d3e538ca54ec",
   "metadata": {},
   "source": [
    "### sklearn"
   ]
  },
  {
   "cell_type": "code",
   "execution_count": 133,
   "id": "21a16e93-a34e-4023-b820-b680c95b00dd",
   "metadata": {},
   "outputs": [],
   "source": [
    "knnr_skl = KNeighborsRegressor()"
   ]
  },
  {
   "cell_type": "code",
   "execution_count": 134,
   "id": "a4bb1cd8-4f56-4b6f-95ba-c44b18f7f460",
   "metadata": {},
   "outputs": [],
   "source": [
    "knnr_skl = KNNRegressor(2)\n",
    "_ = knnr_skl.fit(x, y)"
   ]
  },
  {
   "cell_type": "code",
   "execution_count": 135,
   "id": "b4d38859-fc41-4d50-b54f-94f8afd159ec",
   "metadata": {},
   "outputs": [],
   "source": [
    "preds_skl = knnr_skl.predict(x_test)"
   ]
  },
  {
   "cell_type": "code",
   "execution_count": 136,
   "id": "8bdb9635-ccc1-4ae5-9c93-9e9ea5d4a826",
   "metadata": {},
   "outputs": [
    {
     "data": {
      "image/png": "[encoded data removed]",
      "text/plain": [
       "<Figure size 576x432 with 2 Axes>"
      ]
     },
     "metadata": {
      "needs_background": "light"
     },
     "output_type": "display_data"
    }
   ],
   "source": [
    "plt.figure(figsize=(8, 6))\n",
    "\n",
    "ax1 = plt.subplot(211)\n",
    "ax1.plot(x, y, 'o', color='green', alpha=0.4, label='y train')\n",
    "ax1.legend()\n",
    "ax1.grid()\n",
    "\n",
    "ax2 = plt.subplot(212, sharex=ax1)\n",
    "ax2.plot(x_test, preds_skl, 'o', label='preds test', alpha=0.2)\n",
    "ax2.plot(x_test, y_test, color='red', label='y test')\n",
    "ax2.legend()\n",
    "ax2.grid()"
   ]
  },
  {
   "cell_type": "markdown",
   "id": "e5807f6b-f125-451f-bb06-84aad4500c5a",
   "metadata": {},
   "source": [
    "### Compare"
   ]
  },
  {
   "cell_type": "markdown",
   "id": "38ec6dda-eb8a-4224-b621-be8a8cbb3c9d",
   "metadata": {},
   "source": [
    "Аналогично вместо целевой метрики, которой нет, sklearn у регрессора возвращает $R^2$ (без поправки)"
   ]
  },
  {
   "cell_type": "code",
   "execution_count": 140,
   "id": "16a469eb-7f3c-46d9-9fed-873a24301206",
   "metadata": {},
   "outputs": [
    {
     "data": {
      "text/plain": [
       "(-998.8051466222348, -998.8051466222348)"
      ]
     },
     "execution_count": 140,
     "metadata": {},
     "output_type": "execute_result"
    }
   ],
   "source": [
    "knnr.score(x, y), knnr_skl.score(x, y)"
   ]
  },
  {
   "cell_type": "code",
   "execution_count": 114,
   "id": "a0878bfd-6c7f-4aac-aa20-7422cda1624c",
   "metadata": {},
   "outputs": [
    {
     "data": {
      "text/plain": [
       "(-749.0099479992706, -749.0099479992706)"
      ]
     },
     "execution_count": 114,
     "metadata": {},
     "output_type": "execute_result"
    }
   ],
   "source": [
    "knnr.score(x_test, y_test), knnr_skl.score(x_test, y_test)"
   ]
  },
  {
   "cell_type": "markdown",
   "id": "62fe22d0-76f7-495c-b36a-de386ff92987",
   "metadata": {},
   "source": [
    "Выглядит странно, но хотя бы совпадает между реализациями. Попробую посчитать $R^2$ иначе"
   ]
  },
  {
   "cell_type": "code",
   "execution_count": 119,
   "id": "9fc272ed-e7ea-4276-82fa-2fbc7617623e",
   "metadata": {},
   "outputs": [],
   "source": [
    "from sklearn.metrics import r2_score"
   ]
  },
  {
   "cell_type": "code",
   "execution_count": 125,
   "id": "73fc42dd-454a-43a7-afe9-a861b03611f9",
   "metadata": {},
   "outputs": [
    {
     "data": {
      "text/plain": [
       "0.49194449189472167"
      ]
     },
     "execution_count": 125,
     "metadata": {},
     "output_type": "execute_result"
    }
   ],
   "source": [
    "r2_score(y_test, preds_skl)"
   ]
  },
  {
   "cell_type": "markdown",
   "id": "4c9f1cae-60ba-4a79-9a14-728d9efbf2ea",
   "metadata": {},
   "source": [
    "Пока что мне непонятно, в чём проблема, постараюсь осознать это позже"
   ]
  }
 ],
 "metadata": {
  "kernelspec": {
   "display_name": "Python 3",
   "language": "python",
   "name": "python3"
  },
  "language_info": {
   "codemirror_mode": {
    "name": "ipython",
    "version": 3
   },
   "file_extension": ".py",
   "mimetype": "text/x-python",
   "name": "python",
   "nbconvert_exporter": "python",
   "pygments_lexer": "ipython3",
   "version": "3.9.1"
  }
 },
 "nbformat": 4,
 "nbformat_minor": 5
}
